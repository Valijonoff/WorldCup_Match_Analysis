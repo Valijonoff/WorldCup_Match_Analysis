{
  "nbformat": 4,
  "nbformat_minor": 0,
  "metadata": {
    "colab": {
      "provenance": []
    },
    "kernelspec": {
      "name": "python3",
      "display_name": "Python 3"
    },
    "language_info": {
      "name": "python"
    }
  },
  "cells": [
    {
      "cell_type": "markdown",
      "source": [
        "# ✅ 1-qadam: Faylni yuklab olish va o‘qish"
      ],
      "metadata": {
        "id": "fuMGXPoNVC4y"
      }
    },
    {
      "cell_type": "code",
      "execution_count": 16,
      "metadata": {
        "colab": {
          "base_uri": "https://localhost:8080/",
          "height": 506
        },
        "id": "dWPJC5D0tV6J",
        "outputId": "12c2ab27-21ae-454f-cc94-967b1cfe54a2"
      },
      "outputs": [
        {
          "output_type": "display_data",
          "data": {
            "text/plain": [
              "<IPython.core.display.HTML object>"
            ],
            "text/html": [
              "\n",
              "     <input type=\"file\" id=\"files-a1e68e16-1dea-4023-8959-f5a13583761a\" name=\"files[]\" multiple disabled\n",
              "        style=\"border:none\" />\n",
              "     <output id=\"result-a1e68e16-1dea-4023-8959-f5a13583761a\">\n",
              "      Upload widget is only available when the cell has been executed in the\n",
              "      current browser session. Please rerun this cell to enable.\n",
              "      </output>\n",
              "      <script>// Copyright 2017 Google LLC\n",
              "//\n",
              "// Licensed under the Apache License, Version 2.0 (the \"License\");\n",
              "// you may not use this file except in compliance with the License.\n",
              "// You may obtain a copy of the License at\n",
              "//\n",
              "//      http://www.apache.org/licenses/LICENSE-2.0\n",
              "//\n",
              "// Unless required by applicable law or agreed to in writing, software\n",
              "// distributed under the License is distributed on an \"AS IS\" BASIS,\n",
              "// WITHOUT WARRANTIES OR CONDITIONS OF ANY KIND, either express or implied.\n",
              "// See the License for the specific language governing permissions and\n",
              "// limitations under the License.\n",
              "\n",
              "/**\n",
              " * @fileoverview Helpers for google.colab Python module.\n",
              " */\n",
              "(function(scope) {\n",
              "function span(text, styleAttributes = {}) {\n",
              "  const element = document.createElement('span');\n",
              "  element.textContent = text;\n",
              "  for (const key of Object.keys(styleAttributes)) {\n",
              "    element.style[key] = styleAttributes[key];\n",
              "  }\n",
              "  return element;\n",
              "}\n",
              "\n",
              "// Max number of bytes which will be uploaded at a time.\n",
              "const MAX_PAYLOAD_SIZE = 100 * 1024;\n",
              "\n",
              "function _uploadFiles(inputId, outputId) {\n",
              "  const steps = uploadFilesStep(inputId, outputId);\n",
              "  const outputElement = document.getElementById(outputId);\n",
              "  // Cache steps on the outputElement to make it available for the next call\n",
              "  // to uploadFilesContinue from Python.\n",
              "  outputElement.steps = steps;\n",
              "\n",
              "  return _uploadFilesContinue(outputId);\n",
              "}\n",
              "\n",
              "// This is roughly an async generator (not supported in the browser yet),\n",
              "// where there are multiple asynchronous steps and the Python side is going\n",
              "// to poll for completion of each step.\n",
              "// This uses a Promise to block the python side on completion of each step,\n",
              "// then passes the result of the previous step as the input to the next step.\n",
              "function _uploadFilesContinue(outputId) {\n",
              "  const outputElement = document.getElementById(outputId);\n",
              "  const steps = outputElement.steps;\n",
              "\n",
              "  const next = steps.next(outputElement.lastPromiseValue);\n",
              "  return Promise.resolve(next.value.promise).then((value) => {\n",
              "    // Cache the last promise value to make it available to the next\n",
              "    // step of the generator.\n",
              "    outputElement.lastPromiseValue = value;\n",
              "    return next.value.response;\n",
              "  });\n",
              "}\n",
              "\n",
              "/**\n",
              " * Generator function which is called between each async step of the upload\n",
              " * process.\n",
              " * @param {string} inputId Element ID of the input file picker element.\n",
              " * @param {string} outputId Element ID of the output display.\n",
              " * @return {!Iterable<!Object>} Iterable of next steps.\n",
              " */\n",
              "function* uploadFilesStep(inputId, outputId) {\n",
              "  const inputElement = document.getElementById(inputId);\n",
              "  inputElement.disabled = false;\n",
              "\n",
              "  const outputElement = document.getElementById(outputId);\n",
              "  outputElement.innerHTML = '';\n",
              "\n",
              "  const pickedPromise = new Promise((resolve) => {\n",
              "    inputElement.addEventListener('change', (e) => {\n",
              "      resolve(e.target.files);\n",
              "    });\n",
              "  });\n",
              "\n",
              "  const cancel = document.createElement('button');\n",
              "  inputElement.parentElement.appendChild(cancel);\n",
              "  cancel.textContent = 'Cancel upload';\n",
              "  const cancelPromise = new Promise((resolve) => {\n",
              "    cancel.onclick = () => {\n",
              "      resolve(null);\n",
              "    };\n",
              "  });\n",
              "\n",
              "  // Wait for the user to pick the files.\n",
              "  const files = yield {\n",
              "    promise: Promise.race([pickedPromise, cancelPromise]),\n",
              "    response: {\n",
              "      action: 'starting',\n",
              "    }\n",
              "  };\n",
              "\n",
              "  cancel.remove();\n",
              "\n",
              "  // Disable the input element since further picks are not allowed.\n",
              "  inputElement.disabled = true;\n",
              "\n",
              "  if (!files) {\n",
              "    return {\n",
              "      response: {\n",
              "        action: 'complete',\n",
              "      }\n",
              "    };\n",
              "  }\n",
              "\n",
              "  for (const file of files) {\n",
              "    const li = document.createElement('li');\n",
              "    li.append(span(file.name, {fontWeight: 'bold'}));\n",
              "    li.append(span(\n",
              "        `(${file.type || 'n/a'}) - ${file.size} bytes, ` +\n",
              "        `last modified: ${\n",
              "            file.lastModifiedDate ? file.lastModifiedDate.toLocaleDateString() :\n",
              "                                    'n/a'} - `));\n",
              "    const percent = span('0% done');\n",
              "    li.appendChild(percent);\n",
              "\n",
              "    outputElement.appendChild(li);\n",
              "\n",
              "    const fileDataPromise = new Promise((resolve) => {\n",
              "      const reader = new FileReader();\n",
              "      reader.onload = (e) => {\n",
              "        resolve(e.target.result);\n",
              "      };\n",
              "      reader.readAsArrayBuffer(file);\n",
              "    });\n",
              "    // Wait for the data to be ready.\n",
              "    let fileData = yield {\n",
              "      promise: fileDataPromise,\n",
              "      response: {\n",
              "        action: 'continue',\n",
              "      }\n",
              "    };\n",
              "\n",
              "    // Use a chunked sending to avoid message size limits. See b/62115660.\n",
              "    let position = 0;\n",
              "    do {\n",
              "      const length = Math.min(fileData.byteLength - position, MAX_PAYLOAD_SIZE);\n",
              "      const chunk = new Uint8Array(fileData, position, length);\n",
              "      position += length;\n",
              "\n",
              "      const base64 = btoa(String.fromCharCode.apply(null, chunk));\n",
              "      yield {\n",
              "        response: {\n",
              "          action: 'append',\n",
              "          file: file.name,\n",
              "          data: base64,\n",
              "        },\n",
              "      };\n",
              "\n",
              "      let percentDone = fileData.byteLength === 0 ?\n",
              "          100 :\n",
              "          Math.round((position / fileData.byteLength) * 100);\n",
              "      percent.textContent = `${percentDone}% done`;\n",
              "\n",
              "    } while (position < fileData.byteLength);\n",
              "  }\n",
              "\n",
              "  // All done.\n",
              "  yield {\n",
              "    response: {\n",
              "      action: 'complete',\n",
              "    }\n",
              "  };\n",
              "}\n",
              "\n",
              "scope.google = scope.google || {};\n",
              "scope.google.colab = scope.google.colab || {};\n",
              "scope.google.colab._files = {\n",
              "  _uploadFiles,\n",
              "  _uploadFilesContinue,\n",
              "};\n",
              "})(self);\n",
              "</script> "
            ]
          },
          "metadata": {}
        },
        {
          "output_type": "stream",
          "name": "stdout",
          "text": [
            "Saving WorldCupMatches.csv to WorldCupMatches.csv\n"
          ]
        },
        {
          "output_type": "execute_result",
          "data": {
            "text/plain": [
              "     Year              Datetime    Stage         Stadium         City  \\\n",
              "0  1930.0  13 Jul 1930 - 15:00   Group 1         Pocitos  Montevideo    \n",
              "1  1930.0  13 Jul 1930 - 15:00   Group 4  Parque Central  Montevideo    \n",
              "2  1930.0  14 Jul 1930 - 12:45   Group 2  Parque Central  Montevideo    \n",
              "3  1930.0  14 Jul 1930 - 14:50   Group 3         Pocitos  Montevideo    \n",
              "4  1930.0  15 Jul 1930 - 16:00   Group 1  Parque Central  Montevideo    \n",
              "\n",
              "  Home Team Name  Home Team Goals  Away Team Goals Away Team Name  \\\n",
              "0         France              4.0              1.0         Mexico   \n",
              "1            USA              3.0              0.0        Belgium   \n",
              "2     Yugoslavia              2.0              1.0         Brazil   \n",
              "3        Romania              3.0              1.0           Peru   \n",
              "4      Argentina              1.0              0.0         France   \n",
              "\n",
              "  Win conditions  Attendance  Half-time Home Goals  Half-time Away Goals  \\\n",
              "0                     4444.0                   3.0                   0.0   \n",
              "1                    18346.0                   2.0                   0.0   \n",
              "2                    24059.0                   2.0                   0.0   \n",
              "3                     2549.0                   1.0                   0.0   \n",
              "4                    23409.0                   0.0                   0.0   \n",
              "\n",
              "                  Referee               Assistant 1  \\\n",
              "0  LOMBARDI Domingo (URU)     CRISTOPHE Henry (BEL)   \n",
              "1       MACIAS Jose (ARG)  MATEUCCI Francisco (URU)   \n",
              "2     TEJADA Anibal (URU)   VALLARINO Ricardo (URU)   \n",
              "3   WARNKEN Alberto (CHI)       LANGENUS Jean (BEL)   \n",
              "4     REGO Gilberto (BRA)      SAUCEDO Ulises (BOL)   \n",
              "\n",
              "                  Assistant 2  RoundID  MatchID Home Team Initials  \\\n",
              "0         REGO Gilberto (BRA)    201.0   1096.0                FRA   \n",
              "1       WARNKEN Alberto (CHI)    201.0   1090.0                USA   \n",
              "2         BALWAY Thomas (FRA)    201.0   1093.0                YUG   \n",
              "3    MATEUCCI Francisco (URU)    201.0   1098.0                ROU   \n",
              "4  RADULESCU Constantin (ROU)    201.0   1085.0                ARG   \n",
              "\n",
              "  Away Team Initials  \n",
              "0                MEX  \n",
              "1                BEL  \n",
              "2                BRA  \n",
              "3                PER  \n",
              "4                FRA  "
            ],
            "text/html": [
              "\n",
              "  <div id=\"df-e571bccb-79f2-49e2-a521-0679d01d62d3\" class=\"colab-df-container\">\n",
              "    <div>\n",
              "<style scoped>\n",
              "    .dataframe tbody tr th:only-of-type {\n",
              "        vertical-align: middle;\n",
              "    }\n",
              "\n",
              "    .dataframe tbody tr th {\n",
              "        vertical-align: top;\n",
              "    }\n",
              "\n",
              "    .dataframe thead th {\n",
              "        text-align: right;\n",
              "    }\n",
              "</style>\n",
              "<table border=\"1\" class=\"dataframe\">\n",
              "  <thead>\n",
              "    <tr style=\"text-align: right;\">\n",
              "      <th></th>\n",
              "      <th>Year</th>\n",
              "      <th>Datetime</th>\n",
              "      <th>Stage</th>\n",
              "      <th>Stadium</th>\n",
              "      <th>City</th>\n",
              "      <th>Home Team Name</th>\n",
              "      <th>Home Team Goals</th>\n",
              "      <th>Away Team Goals</th>\n",
              "      <th>Away Team Name</th>\n",
              "      <th>Win conditions</th>\n",
              "      <th>Attendance</th>\n",
              "      <th>Half-time Home Goals</th>\n",
              "      <th>Half-time Away Goals</th>\n",
              "      <th>Referee</th>\n",
              "      <th>Assistant 1</th>\n",
              "      <th>Assistant 2</th>\n",
              "      <th>RoundID</th>\n",
              "      <th>MatchID</th>\n",
              "      <th>Home Team Initials</th>\n",
              "      <th>Away Team Initials</th>\n",
              "    </tr>\n",
              "  </thead>\n",
              "  <tbody>\n",
              "    <tr>\n",
              "      <th>0</th>\n",
              "      <td>1930.0</td>\n",
              "      <td>13 Jul 1930 - 15:00</td>\n",
              "      <td>Group 1</td>\n",
              "      <td>Pocitos</td>\n",
              "      <td>Montevideo</td>\n",
              "      <td>France</td>\n",
              "      <td>4.0</td>\n",
              "      <td>1.0</td>\n",
              "      <td>Mexico</td>\n",
              "      <td></td>\n",
              "      <td>4444.0</td>\n",
              "      <td>3.0</td>\n",
              "      <td>0.0</td>\n",
              "      <td>LOMBARDI Domingo (URU)</td>\n",
              "      <td>CRISTOPHE Henry (BEL)</td>\n",
              "      <td>REGO Gilberto (BRA)</td>\n",
              "      <td>201.0</td>\n",
              "      <td>1096.0</td>\n",
              "      <td>FRA</td>\n",
              "      <td>MEX</td>\n",
              "    </tr>\n",
              "    <tr>\n",
              "      <th>1</th>\n",
              "      <td>1930.0</td>\n",
              "      <td>13 Jul 1930 - 15:00</td>\n",
              "      <td>Group 4</td>\n",
              "      <td>Parque Central</td>\n",
              "      <td>Montevideo</td>\n",
              "      <td>USA</td>\n",
              "      <td>3.0</td>\n",
              "      <td>0.0</td>\n",
              "      <td>Belgium</td>\n",
              "      <td></td>\n",
              "      <td>18346.0</td>\n",
              "      <td>2.0</td>\n",
              "      <td>0.0</td>\n",
              "      <td>MACIAS Jose (ARG)</td>\n",
              "      <td>MATEUCCI Francisco (URU)</td>\n",
              "      <td>WARNKEN Alberto (CHI)</td>\n",
              "      <td>201.0</td>\n",
              "      <td>1090.0</td>\n",
              "      <td>USA</td>\n",
              "      <td>BEL</td>\n",
              "    </tr>\n",
              "    <tr>\n",
              "      <th>2</th>\n",
              "      <td>1930.0</td>\n",
              "      <td>14 Jul 1930 - 12:45</td>\n",
              "      <td>Group 2</td>\n",
              "      <td>Parque Central</td>\n",
              "      <td>Montevideo</td>\n",
              "      <td>Yugoslavia</td>\n",
              "      <td>2.0</td>\n",
              "      <td>1.0</td>\n",
              "      <td>Brazil</td>\n",
              "      <td></td>\n",
              "      <td>24059.0</td>\n",
              "      <td>2.0</td>\n",
              "      <td>0.0</td>\n",
              "      <td>TEJADA Anibal (URU)</td>\n",
              "      <td>VALLARINO Ricardo (URU)</td>\n",
              "      <td>BALWAY Thomas (FRA)</td>\n",
              "      <td>201.0</td>\n",
              "      <td>1093.0</td>\n",
              "      <td>YUG</td>\n",
              "      <td>BRA</td>\n",
              "    </tr>\n",
              "    <tr>\n",
              "      <th>3</th>\n",
              "      <td>1930.0</td>\n",
              "      <td>14 Jul 1930 - 14:50</td>\n",
              "      <td>Group 3</td>\n",
              "      <td>Pocitos</td>\n",
              "      <td>Montevideo</td>\n",
              "      <td>Romania</td>\n",
              "      <td>3.0</td>\n",
              "      <td>1.0</td>\n",
              "      <td>Peru</td>\n",
              "      <td></td>\n",
              "      <td>2549.0</td>\n",
              "      <td>1.0</td>\n",
              "      <td>0.0</td>\n",
              "      <td>WARNKEN Alberto (CHI)</td>\n",
              "      <td>LANGENUS Jean (BEL)</td>\n",
              "      <td>MATEUCCI Francisco (URU)</td>\n",
              "      <td>201.0</td>\n",
              "      <td>1098.0</td>\n",
              "      <td>ROU</td>\n",
              "      <td>PER</td>\n",
              "    </tr>\n",
              "    <tr>\n",
              "      <th>4</th>\n",
              "      <td>1930.0</td>\n",
              "      <td>15 Jul 1930 - 16:00</td>\n",
              "      <td>Group 1</td>\n",
              "      <td>Parque Central</td>\n",
              "      <td>Montevideo</td>\n",
              "      <td>Argentina</td>\n",
              "      <td>1.0</td>\n",
              "      <td>0.0</td>\n",
              "      <td>France</td>\n",
              "      <td></td>\n",
              "      <td>23409.0</td>\n",
              "      <td>0.0</td>\n",
              "      <td>0.0</td>\n",
              "      <td>REGO Gilberto (BRA)</td>\n",
              "      <td>SAUCEDO Ulises (BOL)</td>\n",
              "      <td>RADULESCU Constantin (ROU)</td>\n",
              "      <td>201.0</td>\n",
              "      <td>1085.0</td>\n",
              "      <td>ARG</td>\n",
              "      <td>FRA</td>\n",
              "    </tr>\n",
              "  </tbody>\n",
              "</table>\n",
              "</div>\n",
              "    <div class=\"colab-df-buttons\">\n",
              "\n",
              "  <div class=\"colab-df-container\">\n",
              "    <button class=\"colab-df-convert\" onclick=\"convertToInteractive('df-e571bccb-79f2-49e2-a521-0679d01d62d3')\"\n",
              "            title=\"Convert this dataframe to an interactive table.\"\n",
              "            style=\"display:none;\">\n",
              "\n",
              "  <svg xmlns=\"http://www.w3.org/2000/svg\" height=\"24px\" viewBox=\"0 -960 960 960\">\n",
              "    <path d=\"M120-120v-720h720v720H120Zm60-500h600v-160H180v160Zm220 220h160v-160H400v160Zm0 220h160v-160H400v160ZM180-400h160v-160H180v160Zm440 0h160v-160H620v160ZM180-180h160v-160H180v160Zm440 0h160v-160H620v160Z\"/>\n",
              "  </svg>\n",
              "    </button>\n",
              "\n",
              "  <style>\n",
              "    .colab-df-container {\n",
              "      display:flex;\n",
              "      gap: 12px;\n",
              "    }\n",
              "\n",
              "    .colab-df-convert {\n",
              "      background-color: #E8F0FE;\n",
              "      border: none;\n",
              "      border-radius: 50%;\n",
              "      cursor: pointer;\n",
              "      display: none;\n",
              "      fill: #1967D2;\n",
              "      height: 32px;\n",
              "      padding: 0 0 0 0;\n",
              "      width: 32px;\n",
              "    }\n",
              "\n",
              "    .colab-df-convert:hover {\n",
              "      background-color: #E2EBFA;\n",
              "      box-shadow: 0px 1px 2px rgba(60, 64, 67, 0.3), 0px 1px 3px 1px rgba(60, 64, 67, 0.15);\n",
              "      fill: #174EA6;\n",
              "    }\n",
              "\n",
              "    .colab-df-buttons div {\n",
              "      margin-bottom: 4px;\n",
              "    }\n",
              "\n",
              "    [theme=dark] .colab-df-convert {\n",
              "      background-color: #3B4455;\n",
              "      fill: #D2E3FC;\n",
              "    }\n",
              "\n",
              "    [theme=dark] .colab-df-convert:hover {\n",
              "      background-color: #434B5C;\n",
              "      box-shadow: 0px 1px 3px 1px rgba(0, 0, 0, 0.15);\n",
              "      filter: drop-shadow(0px 1px 2px rgba(0, 0, 0, 0.3));\n",
              "      fill: #FFFFFF;\n",
              "    }\n",
              "  </style>\n",
              "\n",
              "    <script>\n",
              "      const buttonEl =\n",
              "        document.querySelector('#df-e571bccb-79f2-49e2-a521-0679d01d62d3 button.colab-df-convert');\n",
              "      buttonEl.style.display =\n",
              "        google.colab.kernel.accessAllowed ? 'block' : 'none';\n",
              "\n",
              "      async function convertToInteractive(key) {\n",
              "        const element = document.querySelector('#df-e571bccb-79f2-49e2-a521-0679d01d62d3');\n",
              "        const dataTable =\n",
              "          await google.colab.kernel.invokeFunction('convertToInteractive',\n",
              "                                                    [key], {});\n",
              "        if (!dataTable) return;\n",
              "\n",
              "        const docLinkHtml = 'Like what you see? Visit the ' +\n",
              "          '<a target=\"_blank\" href=https://colab.research.google.com/notebooks/data_table.ipynb>data table notebook</a>'\n",
              "          + ' to learn more about interactive tables.';\n",
              "        element.innerHTML = '';\n",
              "        dataTable['output_type'] = 'display_data';\n",
              "        await google.colab.output.renderOutput(dataTable, element);\n",
              "        const docLink = document.createElement('div');\n",
              "        docLink.innerHTML = docLinkHtml;\n",
              "        element.appendChild(docLink);\n",
              "      }\n",
              "    </script>\n",
              "  </div>\n",
              "\n",
              "\n",
              "    <div id=\"df-28edb7f4-ed24-42ea-aa86-9dcd94953191\">\n",
              "      <button class=\"colab-df-quickchart\" onclick=\"quickchart('df-28edb7f4-ed24-42ea-aa86-9dcd94953191')\"\n",
              "                title=\"Suggest charts\"\n",
              "                style=\"display:none;\">\n",
              "\n",
              "<svg xmlns=\"http://www.w3.org/2000/svg\" height=\"24px\"viewBox=\"0 0 24 24\"\n",
              "     width=\"24px\">\n",
              "    <g>\n",
              "        <path d=\"M19 3H5c-1.1 0-2 .9-2 2v14c0 1.1.9 2 2 2h14c1.1 0 2-.9 2-2V5c0-1.1-.9-2-2-2zM9 17H7v-7h2v7zm4 0h-2V7h2v10zm4 0h-2v-4h2v4z\"/>\n",
              "    </g>\n",
              "</svg>\n",
              "      </button>\n",
              "\n",
              "<style>\n",
              "  .colab-df-quickchart {\n",
              "      --bg-color: #E8F0FE;\n",
              "      --fill-color: #1967D2;\n",
              "      --hover-bg-color: #E2EBFA;\n",
              "      --hover-fill-color: #174EA6;\n",
              "      --disabled-fill-color: #AAA;\n",
              "      --disabled-bg-color: #DDD;\n",
              "  }\n",
              "\n",
              "  [theme=dark] .colab-df-quickchart {\n",
              "      --bg-color: #3B4455;\n",
              "      --fill-color: #D2E3FC;\n",
              "      --hover-bg-color: #434B5C;\n",
              "      --hover-fill-color: #FFFFFF;\n",
              "      --disabled-bg-color: #3B4455;\n",
              "      --disabled-fill-color: #666;\n",
              "  }\n",
              "\n",
              "  .colab-df-quickchart {\n",
              "    background-color: var(--bg-color);\n",
              "    border: none;\n",
              "    border-radius: 50%;\n",
              "    cursor: pointer;\n",
              "    display: none;\n",
              "    fill: var(--fill-color);\n",
              "    height: 32px;\n",
              "    padding: 0;\n",
              "    width: 32px;\n",
              "  }\n",
              "\n",
              "  .colab-df-quickchart:hover {\n",
              "    background-color: var(--hover-bg-color);\n",
              "    box-shadow: 0 1px 2px rgba(60, 64, 67, 0.3), 0 1px 3px 1px rgba(60, 64, 67, 0.15);\n",
              "    fill: var(--button-hover-fill-color);\n",
              "  }\n",
              "\n",
              "  .colab-df-quickchart-complete:disabled,\n",
              "  .colab-df-quickchart-complete:disabled:hover {\n",
              "    background-color: var(--disabled-bg-color);\n",
              "    fill: var(--disabled-fill-color);\n",
              "    box-shadow: none;\n",
              "  }\n",
              "\n",
              "  .colab-df-spinner {\n",
              "    border: 2px solid var(--fill-color);\n",
              "    border-color: transparent;\n",
              "    border-bottom-color: var(--fill-color);\n",
              "    animation:\n",
              "      spin 1s steps(1) infinite;\n",
              "  }\n",
              "\n",
              "  @keyframes spin {\n",
              "    0% {\n",
              "      border-color: transparent;\n",
              "      border-bottom-color: var(--fill-color);\n",
              "      border-left-color: var(--fill-color);\n",
              "    }\n",
              "    20% {\n",
              "      border-color: transparent;\n",
              "      border-left-color: var(--fill-color);\n",
              "      border-top-color: var(--fill-color);\n",
              "    }\n",
              "    30% {\n",
              "      border-color: transparent;\n",
              "      border-left-color: var(--fill-color);\n",
              "      border-top-color: var(--fill-color);\n",
              "      border-right-color: var(--fill-color);\n",
              "    }\n",
              "    40% {\n",
              "      border-color: transparent;\n",
              "      border-right-color: var(--fill-color);\n",
              "      border-top-color: var(--fill-color);\n",
              "    }\n",
              "    60% {\n",
              "      border-color: transparent;\n",
              "      border-right-color: var(--fill-color);\n",
              "    }\n",
              "    80% {\n",
              "      border-color: transparent;\n",
              "      border-right-color: var(--fill-color);\n",
              "      border-bottom-color: var(--fill-color);\n",
              "    }\n",
              "    90% {\n",
              "      border-color: transparent;\n",
              "      border-bottom-color: var(--fill-color);\n",
              "    }\n",
              "  }\n",
              "</style>\n",
              "\n",
              "      <script>\n",
              "        async function quickchart(key) {\n",
              "          const quickchartButtonEl =\n",
              "            document.querySelector('#' + key + ' button');\n",
              "          quickchartButtonEl.disabled = true;  // To prevent multiple clicks.\n",
              "          quickchartButtonEl.classList.add('colab-df-spinner');\n",
              "          try {\n",
              "            const charts = await google.colab.kernel.invokeFunction(\n",
              "                'suggestCharts', [key], {});\n",
              "          } catch (error) {\n",
              "            console.error('Error during call to suggestCharts:', error);\n",
              "          }\n",
              "          quickchartButtonEl.classList.remove('colab-df-spinner');\n",
              "          quickchartButtonEl.classList.add('colab-df-quickchart-complete');\n",
              "        }\n",
              "        (() => {\n",
              "          let quickchartButtonEl =\n",
              "            document.querySelector('#df-28edb7f4-ed24-42ea-aa86-9dcd94953191 button');\n",
              "          quickchartButtonEl.style.display =\n",
              "            google.colab.kernel.accessAllowed ? 'block' : 'none';\n",
              "        })();\n",
              "      </script>\n",
              "    </div>\n",
              "\n",
              "    </div>\n",
              "  </div>\n"
            ],
            "application/vnd.google.colaboratory.intrinsic+json": {
              "type": "dataframe",
              "variable_name": "matches_df",
              "summary": "{\n  \"name\": \"matches_df\",\n  \"rows\": 4572,\n  \"fields\": [\n    {\n      \"column\": \"Year\",\n      \"properties\": {\n        \"dtype\": \"number\",\n        \"std\": 22.44882470202141,\n        \"min\": 1930.0,\n        \"max\": 2014.0,\n        \"num_unique_values\": 20,\n        \"samples\": [\n          1930.0,\n          2006.0,\n          1998.0\n        ],\n        \"semantic_type\": \"\",\n        \"description\": \"\"\n      }\n    },\n    {\n      \"column\": \"Datetime\",\n      \"properties\": {\n        \"dtype\": \"category\",\n        \"num_unique_values\": 602,\n        \"samples\": [\n          \"15 Jun 1974 - 18:00 \",\n          \"16 Jun 2002 - 15:30 \",\n          \"20 Jun 2014 - 13:00 \"\n        ],\n        \"semantic_type\": \"\",\n        \"description\": \"\"\n      }\n    },\n    {\n      \"column\": \"Stage\",\n      \"properties\": {\n        \"dtype\": \"category\",\n        \"num_unique_values\": 23,\n        \"samples\": [\n          \"Group D\",\n          \"First round\",\n          \"Group 1\"\n        ],\n        \"semantic_type\": \"\",\n        \"description\": \"\"\n      }\n    },\n    {\n      \"column\": \"Stadium\",\n      \"properties\": {\n        \"dtype\": \"category\",\n        \"num_unique_values\": 181,\n        \"samples\": [\n          \"Victor Boucquey\",\n          \"Olympia Stadium\",\n          \"Zentralstadion\"\n        ],\n        \"semantic_type\": \"\",\n        \"description\": \"\"\n      }\n    },\n    {\n      \"column\": \"City\",\n      \"properties\": {\n        \"dtype\": \"category\",\n        \"num_unique_values\": 151,\n        \"samples\": [\n          \"La Coru\\ufffdA \",\n          \"Antibes \",\n          \"Oviedo \"\n        ],\n        \"semantic_type\": \"\",\n        \"description\": \"\"\n      }\n    },\n    {\n      \"column\": \"Home Team Name\",\n      \"properties\": {\n        \"dtype\": \"category\",\n        \"num_unique_values\": 78,\n        \"samples\": [\n          \"Australia\",\n          \"France\",\n          \"Scotland\"\n        ],\n        \"semantic_type\": \"\",\n        \"description\": \"\"\n      }\n    },\n    {\n      \"column\": \"Home Team Goals\",\n      \"properties\": {\n        \"dtype\": \"number\",\n        \"std\": 1.6102551385229713,\n        \"min\": 0.0,\n        \"max\": 10.0,\n        \"num_unique_values\": 11,\n        \"samples\": [\n          5.0,\n          4.0,\n          0.0\n        ],\n        \"semantic_type\": \"\",\n        \"description\": \"\"\n      }\n    },\n    {\n      \"column\": \"Away Team Goals\",\n      \"properties\": {\n        \"dtype\": \"number\",\n        \"std\": 1.0875733783096078,\n        \"min\": 0.0,\n        \"max\": 7.0,\n        \"num_unique_values\": 7,\n        \"samples\": [\n          1.0,\n          0.0,\n          4.0\n        ],\n        \"semantic_type\": \"\",\n        \"description\": \"\"\n      }\n    },\n    {\n      \"column\": \"Away Team Name\",\n      \"properties\": {\n        \"dtype\": \"category\",\n        \"num_unique_values\": 83,\n        \"samples\": [\n          \"Germany FR\",\n          \"Mexico\",\n          \"Norway\"\n        ],\n        \"semantic_type\": \"\",\n        \"description\": \"\"\n      }\n    },\n    {\n      \"column\": \"Win conditions\",\n      \"properties\": {\n        \"dtype\": \"category\",\n        \"num_unique_values\": 43,\n        \"samples\": [\n          \"Uruguay win on penalties (4 - 2) \",\n          \"Sweden win on penalties (4 - 5) \",\n          \"Brazil win on penalties (3 - 2) \"\n        ],\n        \"semantic_type\": \"\",\n        \"description\": \"\"\n      }\n    },\n    {\n      \"column\": \"Attendance\",\n      \"properties\": {\n        \"dtype\": \"number\",\n        \"std\": 23485.249247289223,\n        \"min\": 2000.0,\n        \"max\": 173850.0,\n        \"num_unique_values\": 622,\n        \"samples\": [\n          35258.0,\n          72404.0,\n          40248.0\n        ],\n        \"semantic_type\": \"\",\n        \"description\": \"\"\n      }\n    },\n    {\n      \"column\": \"Half-time Home Goals\",\n      \"properties\": {\n        \"dtype\": \"number\",\n        \"std\": 0.9374141286628032,\n        \"min\": 0.0,\n        \"max\": 6.0,\n        \"num_unique_values\": 7,\n        \"samples\": [\n          3.0,\n          2.0,\n          5.0\n        ],\n        \"semantic_type\": \"\",\n        \"description\": \"\"\n      }\n    },\n    {\n      \"column\": \"Half-time Away Goals\",\n      \"properties\": {\n        \"dtype\": \"number\",\n        \"std\": 0.6912518906955,\n        \"min\": 0.0,\n        \"max\": 5.0,\n        \"num_unique_values\": 6,\n        \"samples\": [\n          0.0,\n          1.0,\n          5.0\n        ],\n        \"semantic_type\": \"\",\n        \"description\": \"\"\n      }\n    },\n    {\n      \"column\": \"Referee\",\n      \"properties\": {\n        \"dtype\": \"category\",\n        \"num_unique_values\": 366,\n        \"samples\": [\n          \"SILVA ARCE Hernan (CHI)\",\n          \"AZON ROMA Ramon (ESP)\",\n          \"MATTEA Francesco (ITA)\"\n        ],\n        \"semantic_type\": \"\",\n        \"description\": \"\"\n      }\n    },\n    {\n      \"column\": \"Assistant 1\",\n      \"properties\": {\n        \"dtype\": \"category\",\n        \"num_unique_values\": 387,\n        \"samples\": [\n          \"FARAG Wagih (EGY)\",\n          \"JARGUZ Alojzy (POL)\",\n          \"VICUNA Claudio (CHI)\"\n        ],\n        \"semantic_type\": \"\",\n        \"description\": \"\"\n      }\n    },\n    {\n      \"column\": \"Assistant 2\",\n      \"properties\": {\n        \"dtype\": \"category\",\n        \"num_unique_values\": 408,\n        \"samples\": [\n          \"VAN NUFFEL Lucien (BEL)\",\n          \"BAMBRIDGE Christopher (AUS)\",\n          \"PARK Hae-Yong (KOR)\"\n        ],\n        \"semantic_type\": \"\",\n        \"description\": \"\"\n      }\n    },\n    {\n      \"column\": \"RoundID\",\n      \"properties\": {\n        \"dtype\": \"number\",\n        \"std\": 27296131.70287027,\n        \"min\": 201.0,\n        \"max\": 97410600.0,\n        \"num_unique_values\": 101,\n        \"samples\": [\n          97410200.0,\n          714.0,\n          338.0\n        ],\n        \"semantic_type\": \"\",\n        \"description\": \"\"\n      }\n    },\n    {\n      \"column\": \"MatchID\",\n      \"properties\": {\n        \"dtype\": \"number\",\n        \"std\": 111057171.67191158,\n        \"min\": 25.0,\n        \"max\": 300186515.0,\n        \"num_unique_values\": 836,\n        \"samples\": [\n          43950031.0,\n          300186460.0,\n          2215.0\n        ],\n        \"semantic_type\": \"\",\n        \"description\": \"\"\n      }\n    },\n    {\n      \"column\": \"Home Team Initials\",\n      \"properties\": {\n        \"dtype\": \"category\",\n        \"num_unique_values\": 77,\n        \"samples\": [\n          \"ARG\",\n          \"NED\",\n          \"HUN\"\n        ],\n        \"semantic_type\": \"\",\n        \"description\": \"\"\n      }\n    },\n    {\n      \"column\": \"Away Team Initials\",\n      \"properties\": {\n        \"dtype\": \"category\",\n        \"num_unique_values\": 82,\n        \"samples\": [\n          \"FRG\",\n          \"MEX\",\n          \"NOR\"\n        ],\n        \"semantic_type\": \"\",\n        \"description\": \"\"\n      }\n    }\n  ]\n}"
            }
          },
          "metadata": {},
          "execution_count": 16
        }
      ],
      "source": [
        "import pandas as pd\n",
        "\n",
        "# CSV faylni yuklash (agar siz uni Colabga yuklagan bo‘lsangiz)\n",
        "from google.colab import files\n",
        "uploaded = files.upload()\n",
        "\n",
        "# Faylni o‘qish\n",
        "matches_df = pd.read_csv(\"WorldCupMatches.csv\")\n",
        "\n",
        "# Dastlabki 5 ta qatorni ko‘rish\n",
        "matches_df.head()"
      ]
    },
    {
      "cell_type": "markdown",
      "source": [
        "# ✅ 2-qadam: Tozalash va ustunlarni ko‘rish"
      ],
      "metadata": {
        "id": "58bLu6GZVFmY"
      }
    },
    {
      "cell_type": "markdown",
      "source": [
        "Biz ular bilan ishlaymiz:\n",
        "\n",
        "Year, Home Team Name, Away Team Name, Home Team Goals, Away Team Goals, Stadium, City"
      ],
      "metadata": {
        "id": "xRalzBaPV6a6"
      }
    },
    {
      "cell_type": "code",
      "source": [
        "# Ustunlarni ko‘rib chiqamiz\n",
        "matches_df.columns"
      ],
      "metadata": {
        "colab": {
          "base_uri": "https://localhost:8080/"
        },
        "id": "QRnuZ3XfVKBV",
        "outputId": "795db529-3f20-4022-ebb7-e407be91c08f"
      },
      "execution_count": 17,
      "outputs": [
        {
          "output_type": "execute_result",
          "data": {
            "text/plain": [
              "Index(['Year', 'Datetime', 'Stage', 'Stadium', 'City', 'Home Team Name',\n",
              "       'Home Team Goals', 'Away Team Goals', 'Away Team Name',\n",
              "       'Win conditions', 'Attendance', 'Half-time Home Goals',\n",
              "       'Half-time Away Goals', 'Referee', 'Assistant 1', 'Assistant 2',\n",
              "       'RoundID', 'MatchID', 'Home Team Initials', 'Away Team Initials'],\n",
              "      dtype='object')"
            ]
          },
          "metadata": {},
          "execution_count": 17
        }
      ]
    },
    {
      "cell_type": "code",
      "source": [
        "# Ma’lumotlarning umumiy ko‘rinishi\n",
        "matches_df.info()"
      ],
      "metadata": {
        "colab": {
          "base_uri": "https://localhost:8080/"
        },
        "id": "6_gRTCQgVWF5",
        "outputId": "2ae6f809-8a6e-4537-f884-fbd10dfaabaa"
      },
      "execution_count": 18,
      "outputs": [
        {
          "output_type": "stream",
          "name": "stdout",
          "text": [
            "<class 'pandas.core.frame.DataFrame'>\n",
            "RangeIndex: 4572 entries, 0 to 4571\n",
            "Data columns (total 20 columns):\n",
            " #   Column                Non-Null Count  Dtype  \n",
            "---  ------                --------------  -----  \n",
            " 0   Year                  852 non-null    float64\n",
            " 1   Datetime              852 non-null    object \n",
            " 2   Stage                 852 non-null    object \n",
            " 3   Stadium               852 non-null    object \n",
            " 4   City                  852 non-null    object \n",
            " 5   Home Team Name        852 non-null    object \n",
            " 6   Home Team Goals       852 non-null    float64\n",
            " 7   Away Team Goals       852 non-null    float64\n",
            " 8   Away Team Name        852 non-null    object \n",
            " 9   Win conditions        852 non-null    object \n",
            " 10  Attendance            850 non-null    float64\n",
            " 11  Half-time Home Goals  852 non-null    float64\n",
            " 12  Half-time Away Goals  852 non-null    float64\n",
            " 13  Referee               852 non-null    object \n",
            " 14  Assistant 1           852 non-null    object \n",
            " 15  Assistant 2           852 non-null    object \n",
            " 16  RoundID               852 non-null    float64\n",
            " 17  MatchID               852 non-null    float64\n",
            " 18  Home Team Initials    852 non-null    object \n",
            " 19  Away Team Initials    852 non-null    object \n",
            "dtypes: float64(8), object(12)\n",
            "memory usage: 714.5+ KB\n"
          ]
        }
      ]
    },
    {
      "cell_type": "code",
      "source": [
        "# NaN qiymatlar soni\n",
        "matches_df.isnull().sum()"
      ],
      "metadata": {
        "colab": {
          "base_uri": "https://localhost:8080/",
          "height": 711
        },
        "id": "IYzqTiFRVbxN",
        "outputId": "aa491cc6-2321-4e8e-b825-3da18bed0831"
      },
      "execution_count": 19,
      "outputs": [
        {
          "output_type": "execute_result",
          "data": {
            "text/plain": [
              "Year                    3720\n",
              "Datetime                3720\n",
              "Stage                   3720\n",
              "Stadium                 3720\n",
              "City                    3720\n",
              "Home Team Name          3720\n",
              "Home Team Goals         3720\n",
              "Away Team Goals         3720\n",
              "Away Team Name          3720\n",
              "Win conditions          3720\n",
              "Attendance              3722\n",
              "Half-time Home Goals    3720\n",
              "Half-time Away Goals    3720\n",
              "Referee                 3720\n",
              "Assistant 1             3720\n",
              "Assistant 2             3720\n",
              "RoundID                 3720\n",
              "MatchID                 3720\n",
              "Home Team Initials      3720\n",
              "Away Team Initials      3720\n",
              "dtype: int64"
            ],
            "text/html": [
              "<div>\n",
              "<style scoped>\n",
              "    .dataframe tbody tr th:only-of-type {\n",
              "        vertical-align: middle;\n",
              "    }\n",
              "\n",
              "    .dataframe tbody tr th {\n",
              "        vertical-align: top;\n",
              "    }\n",
              "\n",
              "    .dataframe thead th {\n",
              "        text-align: right;\n",
              "    }\n",
              "</style>\n",
              "<table border=\"1\" class=\"dataframe\">\n",
              "  <thead>\n",
              "    <tr style=\"text-align: right;\">\n",
              "      <th></th>\n",
              "      <th>0</th>\n",
              "    </tr>\n",
              "  </thead>\n",
              "  <tbody>\n",
              "    <tr>\n",
              "      <th>Year</th>\n",
              "      <td>3720</td>\n",
              "    </tr>\n",
              "    <tr>\n",
              "      <th>Datetime</th>\n",
              "      <td>3720</td>\n",
              "    </tr>\n",
              "    <tr>\n",
              "      <th>Stage</th>\n",
              "      <td>3720</td>\n",
              "    </tr>\n",
              "    <tr>\n",
              "      <th>Stadium</th>\n",
              "      <td>3720</td>\n",
              "    </tr>\n",
              "    <tr>\n",
              "      <th>City</th>\n",
              "      <td>3720</td>\n",
              "    </tr>\n",
              "    <tr>\n",
              "      <th>Home Team Name</th>\n",
              "      <td>3720</td>\n",
              "    </tr>\n",
              "    <tr>\n",
              "      <th>Home Team Goals</th>\n",
              "      <td>3720</td>\n",
              "    </tr>\n",
              "    <tr>\n",
              "      <th>Away Team Goals</th>\n",
              "      <td>3720</td>\n",
              "    </tr>\n",
              "    <tr>\n",
              "      <th>Away Team Name</th>\n",
              "      <td>3720</td>\n",
              "    </tr>\n",
              "    <tr>\n",
              "      <th>Win conditions</th>\n",
              "      <td>3720</td>\n",
              "    </tr>\n",
              "    <tr>\n",
              "      <th>Attendance</th>\n",
              "      <td>3722</td>\n",
              "    </tr>\n",
              "    <tr>\n",
              "      <th>Half-time Home Goals</th>\n",
              "      <td>3720</td>\n",
              "    </tr>\n",
              "    <tr>\n",
              "      <th>Half-time Away Goals</th>\n",
              "      <td>3720</td>\n",
              "    </tr>\n",
              "    <tr>\n",
              "      <th>Referee</th>\n",
              "      <td>3720</td>\n",
              "    </tr>\n",
              "    <tr>\n",
              "      <th>Assistant 1</th>\n",
              "      <td>3720</td>\n",
              "    </tr>\n",
              "    <tr>\n",
              "      <th>Assistant 2</th>\n",
              "      <td>3720</td>\n",
              "    </tr>\n",
              "    <tr>\n",
              "      <th>RoundID</th>\n",
              "      <td>3720</td>\n",
              "    </tr>\n",
              "    <tr>\n",
              "      <th>MatchID</th>\n",
              "      <td>3720</td>\n",
              "    </tr>\n",
              "    <tr>\n",
              "      <th>Home Team Initials</th>\n",
              "      <td>3720</td>\n",
              "    </tr>\n",
              "    <tr>\n",
              "      <th>Away Team Initials</th>\n",
              "      <td>3720</td>\n",
              "    </tr>\n",
              "  </tbody>\n",
              "</table>\n",
              "</div><br><label><b>dtype:</b> int64</label>"
            ]
          },
          "metadata": {},
          "execution_count": 19
        }
      ]
    },
    {
      "cell_type": "markdown",
      "source": [
        "# ✅ 3-qadam: O‘yinlar soni yillar bo‘yicha"
      ],
      "metadata": {
        "id": "dUFzZ7WRVd2O"
      }
    },
    {
      "cell_type": "code",
      "source": [
        "import matplotlib.pyplot as plt\n",
        "import seaborn as sns\n",
        "\n",
        "plt.figure(figsize=(10,5))\n",
        "sns.countplot(x='Year', data=matches_df)\n",
        "plt.xticks(rotation=45)\n",
        "plt.title('Yillar bo‘yicha o‘yinlar soni')\n",
        "plt.xlabel('Yil')\n",
        "plt.ylabel('O‘yinlar soni')\n",
        "plt.tight_layout()\n",
        "plt.show()"
      ],
      "metadata": {
        "colab": {
          "base_uri": "https://localhost:8080/",
          "height": 507
        },
        "id": "1Roq1lf6Vqf0",
        "outputId": "aed53cba-cecf-442c-f18b-41b600c21f08"
      },
      "execution_count": 20,
      "outputs": [
        {
          "output_type": "display_data",
          "data": {
            "text/plain": [
              "<Figure size 1000x500 with 1 Axes>"
            ],
            "image/png": "[encoded data removed]"
          },
          "metadata": {}
        }
      ]
    },
    {
      "cell_type": "markdown",
      "source": [
        "# 🔍 Tekshiruv: Qancha ma’lumot takrorlangan?"
      ],
      "metadata": {
        "id": "ogsvOZCVYW-f"
      }
    },
    {
      "cell_type": "code",
      "source": [
        "# Nechta takroriy qatordan iboratligini tekshirish\n",
        "matches_df.duplicated().sum()"
      ],
      "metadata": {
        "colab": {
          "base_uri": "https://localhost:8080/"
        },
        "id": "vxZcikhpYXzf",
        "outputId": "306169c2-726b-44ab-9df2-55e591f509e6"
      },
      "execution_count": 21,
      "outputs": [
        {
          "output_type": "execute_result",
          "data": {
            "text/plain": [
              "np.int64(3735)"
            ]
          },
          "metadata": {},
          "execution_count": 21
        }
      ]
    },
    {
      "cell_type": "markdown",
      "source": [
        "# 🧹 Tozalash: Takrorlangan qatorlarni olib tashlash"
      ],
      "metadata": {
        "id": "VqLeciqwZLJO"
      }
    },
    {
      "cell_type": "code",
      "source": [
        "# Takroriy qatorlarni olib tashlaymiz\n",
        "matches_df = matches_df.drop_duplicates()\n",
        "\n",
        "# Yana bir marta 2014-yil o‘yinlar sonini tekshiramiz\n",
        "matches_df[matches_df['Year'] == 2014].shape[0]"
      ],
      "metadata": {
        "colab": {
          "base_uri": "https://localhost:8080/"
        },
        "id": "XWaN67f0ZIcv",
        "outputId": "8d743904-557f-4348-e308-7190b697cc7a"
      },
      "execution_count": 22,
      "outputs": [
        {
          "output_type": "execute_result",
          "data": {
            "text/plain": [
              "64"
            ]
          },
          "metadata": {},
          "execution_count": 22
        }
      ]
    },
    {
      "cell_type": "markdown",
      "source": [
        "# ✅ Bonus: Takrorlanish nimaga bog‘liq bo‘lganini ko‘rish\n",
        "\n",
        "Ba’zida datetime, stadium, yoki round kabi ustunlar sababli bir xil o‘yin bir nechta ko‘rinishda kiritilgan bo‘lishi mumkin. Shuning uchun Home Team Name, Away Team Name, Year, Datetime ustunlariga qarab aniqlashtirish mumkin."
      ],
      "metadata": {
        "id": "csvWVMwfZN3B"
      }
    },
    {
      "cell_type": "code",
      "source": [
        "matches_df[['Year', 'Datetime', 'Home Team Name', 'Away Team Name']].duplicated().sum()"
      ],
      "metadata": {
        "colab": {
          "base_uri": "https://localhost:8080/"
        },
        "id": "UEDjCt4NZWGZ",
        "outputId": "e3ce1f9d-6838-47da-ca34-28e78e3bb216"
      },
      "execution_count": 23,
      "outputs": [
        {
          "output_type": "execute_result",
          "data": {
            "text/plain": [
              "np.int64(0)"
            ]
          },
          "metadata": {},
          "execution_count": 23
        }
      ]
    },
    {
      "cell_type": "markdown",
      "source": [
        "# ⚽️ Tahlil rejasi: FIFA World Cup Matches\n",
        "\n",
        "1.   Yillar bo‘yicha o‘yinlar soni (Year ustuni asosida):\n",
        "\n",
        "        *   Har bir musobaqada nechta o‘yin o‘tkazilgan?\n",
        "\n",
        "2.   Eng ko‘p g‘alaba qozongan jamoalar:\n",
        "\n",
        "        *   G‘alaba soni (Win) bo‘yicha eng kuchli jamoalar.\n",
        "\n",
        "\n",
        "\n",
        "\n",
        "\n",
        "\n",
        "\n"
      ],
      "metadata": {
        "id": "eZ7HpytKami9"
      }
    },
    {
      "cell_type": "markdown",
      "source": [
        "# 🔧 Qanday boshlaymiz?\n",
        "### Avvalo, yillar bo‘yicha o‘yinlar sonini chiqaramiz:"
      ],
      "metadata": {
        "id": "R7TyAnrubjvR"
      }
    },
    {
      "cell_type": "code",
      "source": [
        "games_per_year = matches_df['Year'].value_counts().sort_index()\n",
        "\n",
        "plt.figure(figsize=(12,6))\n",
        "sns.barplot(x=games_per_year.index, y=games_per_year.values, palette=\"crest\")\n",
        "plt.title(\"Yillar bo‘yicha o‘yinlar soni\")\n",
        "plt.xlabel(\"Yil\")\n",
        "plt.ylabel(\"O‘yinlar soni\")\n",
        "plt.xticks(rotation=45)\n",
        "plt.grid(axis='y', linestyle='--', alpha=0.5)\n",
        "plt.tight_layout()\n",
        "plt.savefig(\"images/games_per_year.png\")\n",
        "plt.show()"
      ],
      "metadata": {
        "colab": {
          "base_uri": "https://localhost:8080/",
          "height": 703
        },
        "id": "Z4swkMBtbbuB",
        "outputId": "348a2831-9226-4816-e6a2-351c867843a5"
      },
      "execution_count": 38,
      "outputs": [
        {
          "output_type": "stream",
          "name": "stderr",
          "text": [
            "/tmp/ipython-input-38-1854599611.py:4: FutureWarning: \n",
            "\n",
            "Passing `palette` without assigning `hue` is deprecated and will be removed in v0.14.0. Assign the `x` variable to `hue` and set `legend=False` for the same effect.\n",
            "\n",
            "  sns.barplot(x=games_per_year.index, y=games_per_year.values, palette=\"crest\")\n"
          ]
        },
        {
          "output_type": "display_data",
          "data": {
            "text/plain": [
              "<Figure size 1200x600 with 1 Axes>"
            ],
            "image/png": "[encoded data removed]"
          },
          "metadata": {}
        }
      ]
    },
    {
      "cell_type": "markdown",
      "source": [
        "# 🎯 Maqsad:\n",
        "Qaysi jamoalar eng ko‘p g‘alaba qozongan — ya’ni Win conditions ustunida \"win\" deb yozilgan o‘yinlar orqali aniqlaymiz."
      ],
      "metadata": {
        "id": "ZbLFEENUcgi-"
      }
    },
    {
      "cell_type": "markdown",
      "source": [
        "# 📊 1. Eng ko'p g‘alaba qozongan jamoalarni sanash:"
      ],
      "metadata": {
        "id": "Rzev0jX-ckML"
      }
    },
    {
      "cell_type": "code",
      "source": [
        "def get_winner(row):\n",
        "    if row['Home Team Goals'] > row['Away Team Goals']:\n",
        "        return row['Home Team Name']\n",
        "    elif row['Home Team Goals'] < row['Away Team Goals']:\n",
        "        return row['Away Team Name']\n",
        "    else:\n",
        "        return 'Draw'\n",
        "\n",
        "# Har bir o‘yin uchun g‘olibni aniqlaymiz\n",
        "matches_df['Winner'] = matches_df.apply(get_winner, axis=1)\n",
        "\n",
        "# Faqat g‘oliblarni olib, g‘alaba sonini hisoblaymiz\n",
        "winners = matches_df[matches_df['Winner'] != 'Draw']['Winner'].value_counts().head(10)\n",
        "\n",
        "# Vizualizatsiya\n",
        "plt.figure(figsize=(10,6))\n",
        "sns.barplot(x=winners.values, y=winners.index, palette=\"viridis\")\n",
        "plt.title(\"Eng ko‘p g‘alaba qozongan jamoalar (oddiy g‘alabalar asosida)\")\n",
        "plt.xlabel(\"G‘alabalar soni\")\n",
        "plt.ylabel(\"Jamoa\")\n",
        "plt.grid(axis='x', linestyle='--', alpha=0.5)\n",
        "plt.tight_layout()\n",
        "plt.savefig(\"images/top_match_winners.png\")\n",
        "plt.show()"
      ],
      "metadata": {
        "colab": {
          "base_uri": "https://localhost:8080/",
          "height": 714
        },
        "id": "aZUV0YjUcnC3",
        "outputId": "d6077ea5-17bd-4c71-da2f-f2fd4ac47ff6"
      },
      "execution_count": 32,
      "outputs": [
        {
          "output_type": "stream",
          "name": "stderr",
          "text": [
            "/tmp/ipython-input-32-2460632415.py:17: FutureWarning: \n",
            "\n",
            "Passing `palette` without assigning `hue` is deprecated and will be removed in v0.14.0. Assign the `y` variable to `hue` and set `legend=False` for the same effect.\n",
            "\n",
            "  sns.barplot(x=winners.values, y=winners.index, palette=\"viridis\")\n"
          ]
        },
        {
          "output_type": "display_data",
          "data": {
            "text/plain": [
              "<Figure size 1000x600 with 1 Axes>"
            ],
            "image/png": "[encoded data removed]"
          },
          "metadata": {}
        }
      ]
    },
    {
      "cell_type": "markdown",
      "source": [
        "# 🎯 “Eng ko‘p gol urgan jamoalar”"
      ],
      "metadata": {
        "id": "i7ufkfxGgTZs"
      }
    },
    {
      "cell_type": "code",
      "source": [
        "# Home team gollari\n",
        "home_goals = matches_df.groupby('Home Team Name')['Home Team Goals'].sum()\n",
        "\n",
        "# Away team gollari\n",
        "away_goals = matches_df.groupby('Away Team Name')['Away Team Goals'].sum()\n",
        "\n",
        "# Ikkalasini qo‘shamiz\n",
        "total_goals = home_goals.add(away_goals, fill_value=0)\n",
        "\n",
        "# Top 10 jamoani olish\n",
        "top_teams = total_goals.sort_values(ascending=False).head(10)\n",
        "\n",
        "# Grafik chizish\n",
        "plt.figure(figsize=(10,6))\n",
        "sns.barplot(x=top_teams.values, y=top_teams.index, palette='coolwarm')\n",
        "plt.title(\"Eng ko‘p gol urgan jamoalar (Jahon chempionatlari tarixi bo‘yicha)\")\n",
        "plt.xlabel(\"Urgan gollar soni\")\n",
        "plt.ylabel(\"Jamoa\")\n",
        "plt.tight_layout()\n",
        "plt.savefig(\"images/top_goal_scoring_teams.png\")  # rasmni saqlash\n",
        "plt.show()"
      ],
      "metadata": {
        "colab": {
          "base_uri": "https://localhost:8080/",
          "height": 714
        },
        "id": "OKH7bskHgVOJ",
        "outputId": "da7de7af-5e38-4e6d-e3f1-00ac3e56323c"
      },
      "execution_count": 37,
      "outputs": [
        {
          "output_type": "stream",
          "name": "stderr",
          "text": [
            "/tmp/ipython-input-37-2565693264.py:15: FutureWarning: \n",
            "\n",
            "Passing `palette` without assigning `hue` is deprecated and will be removed in v0.14.0. Assign the `y` variable to `hue` and set `legend=False` for the same effect.\n",
            "\n",
            "  sns.barplot(x=top_teams.values, y=top_teams.index, palette='coolwarm')\n"
          ]
        },
        {
          "output_type": "display_data",
          "data": {
            "text/plain": [
              "<Figure size 1000x600 with 1 Axes>"
            ],
            "image/png": "[encoded data removed]"
          },
          "metadata": {}
        }
      ]
    },
    {
      "cell_type": "markdown",
      "source": [
        "# 📌 “Qaysi jamoa eng ko‘p o‘yin o‘tkazgan?”"
      ],
      "metadata": {
        "id": "0o2dLL60gnl9"
      }
    },
    {
      "cell_type": "code",
      "source": [
        "# Har bir jamoaning Home va Away sifatida qatnashgan o‘yinlari\n",
        "home_matches = matches_df['Home Team Name'].value_counts()\n",
        "away_matches = matches_df['Away Team Name'].value_counts()\n",
        "\n",
        "# Ikkalasini qo‘shish\n",
        "total_matches = home_matches.add(away_matches, fill_value=0)\n",
        "\n",
        "# Eng ko‘p o‘yin o‘tkazgan 10 ta jamoa\n",
        "top_played_teams = total_matches.sort_values(ascending=False).head(10)\n",
        "\n",
        "# Grafik\n",
        "plt.figure(figsize=(10,6))\n",
        "sns.barplot(x=top_played_teams.values, y=top_played_teams.index, palette='viridis')\n",
        "plt.title(\"Eng ko‘p o‘yin o‘tkazgan jamoalar\")\n",
        "plt.xlabel(\"O‘yinlar soni\")\n",
        "plt.ylabel(\"Jamoa\")\n",
        "plt.tight_layout()\n",
        "plt.savefig(\"images/top_played_teams.png\")\n",
        "plt.show()"
      ],
      "metadata": {
        "colab": {
          "base_uri": "https://localhost:8080/",
          "height": 714
        },
        "id": "t-k123Pjgp7A",
        "outputId": "81fa0d2b-f3fc-4258-cfd1-7cd256b0c6f3"
      },
      "execution_count": 36,
      "outputs": [
        {
          "output_type": "stream",
          "name": "stderr",
          "text": [
            "/tmp/ipython-input-36-3091077213.py:13: FutureWarning: \n",
            "\n",
            "Passing `palette` without assigning `hue` is deprecated and will be removed in v0.14.0. Assign the `y` variable to `hue` and set `legend=False` for the same effect.\n",
            "\n",
            "  sns.barplot(x=top_played_teams.values, y=top_played_teams.index, palette='viridis')\n"
          ]
        },
        {
          "output_type": "display_data",
          "data": {
            "text/plain": [
              "<Figure size 1000x600 with 1 Axes>"
            ],
            "image/png": "[encoded data removed]"
          },
          "metadata": {}
        }
      ]
    }
  ]
}